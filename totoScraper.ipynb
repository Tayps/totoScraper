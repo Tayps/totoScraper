{
 "cells": [
  {
   "cell_type": "markdown",
   "id": "f781d547",
   "metadata": {},
   "source": [
    "#### Data to collect  \n",
    "\n",
    "| Data |\n",
    "| -------- |\n",
    "| Draw Number |\n",
    "| Draw Date |\n",
    "| Winning Number 1 |\n",
    "| Winning Number 2 |\n",
    "| Winning Number 3 |\n",
    "| Winning Number 4 |\n",
    "| Winning Number 5 |\n",
    "| Winning Number 6 |\n",
    "| Additional Number|\n",
    "| Jackpot amount|\n",
    "| G1 Share amount|\n",
    "| G2 Share amount|\n",
    "| G3 Share amount|\n",
    "| G4 Share amount|\n",
    "| G1 winning shares|\n",
    "| G2 winning shares|\n",
    "| G3 winning shares|\n",
    "| G4 winning shares|\n",
    "| G5 winning shares|\n",
    "| G6 winning shares|\n",
    "| G7 winning shares|\n",
    "\n",
    "\n",
    "\n"
   ]
  },
  {
   "cell_type": "code",
   "execution_count": 214,
   "id": "a7340591",
   "metadata": {},
   "outputs": [],
   "source": [
    "#Import needed packages\n",
    "\n",
    "from selenium import webdriver\n",
    "from selenium.webdriver.common.by import By\n",
    "from datetime import datetime \n",
    "import os\n",
    "import psycopg2\n",
    "from dotenv import load_dotenv\n",
    "from selenium.webdriver.support.ui import Select\n",
    "# from selenium.webdriver.chrome.service import Service as ChromeService\n",
    "# from webdriver_manager.chrome import ChromeDriverManager\n"
   ]
  },
  {
   "cell_type": "code",
   "execution_count": 238,
   "id": "33bc0e3b",
   "metadata": {},
   "outputs": [],
   "source": [
    "# Opens the singapore pools toto result website in Chrome.\n",
    "driver = webdriver.Chrome()\n",
    "driver.get(\"https://www.singaporepools.com.sg/en/product/sr/pages/toto_results.aspx\")\n",
    "driver.set_window_size(690,1024)"
   ]
  },
  {
   "cell_type": "code",
   "execution_count": 222,
   "id": "b0754548",
   "metadata": {},
   "outputs": [
    {
     "data": {
      "text/plain": [
       "4124"
      ]
     },
     "execution_count": 222,
     "metadata": {},
     "output_type": "execute_result"
    }
   ],
   "source": [
    "# Retrieve Draw Number\n",
    "drawNumber = driver.find_element(By.XPATH, \"/html/body/form/div[5]/div[1]/div/section/div/div/div/span/section/div/div[2]/div[2]/div/div/div[2]/div[1]/div/div[1]/div/div[2]/div[1]/table[1]/thead/tr/th[2]\")\n",
    "drawNumber = int(drawNumber.text.replace('Draw No. ', ''))\n",
    "drawNumber"
   ]
  },
  {
   "cell_type": "code",
   "execution_count": 223,
   "id": "c752246d",
   "metadata": {},
   "outputs": [
    {
     "name": "stdout",
     "output_type": "stream",
     "text": [
      "Thu, 23 Oct 2025\n",
      "2025-10-23\n"
     ]
    }
   ],
   "source": [
    "#Retrieve Draw Date\n",
    "drawDate = driver.find_element(By.XPATH,\"/html/body/form/div[5]/div[1]/div/section/div/div/div/span/section/div/div[2]/div[2]/div/div/div[2]/div[1]/div/div[1]/div/div[2]/div[1]/table[1]/thead/tr/th[1]\")\n",
    "print(drawDate.text)\n",
    "print(datetime.strptime(drawDate.text, \"%a, %d %b %Y\").date())"
   ]
  },
  {
   "cell_type": "code",
   "execution_count": 225,
   "id": "42642cdb",
   "metadata": {},
   "outputs": [
    {
     "data": {
      "text/plain": [
       "{'winningNo 1': 7,\n",
       " 'winningNo 2': 14,\n",
       " 'winningNo 3': 17,\n",
       " 'winningNo 4': 18,\n",
       " 'winningNo 5': 31,\n",
       " 'winningNo 6': 38}"
      ]
     },
     "execution_count": 225,
     "metadata": {},
     "output_type": "execute_result"
    }
   ],
   "source": [
    "# Retrieve Winning Numbers\n",
    "winningNo = {}\n",
    "for n in range (1,7):                                                \n",
    "    winningNo[f\"winningNo {n}\"] = int(driver.find_element(By.XPATH, \"/html/body/form/div[5]/div[1]/div/section/div/div/div/span/section/div/div[2]/div[2]/div/div/div[2]/div[1]/div/div[1]/div/div[2]/div[1]/table[2]/tbody/tr/td[\"+str(n)+\"]\").text)\n",
    "winningNo"
   ]
  },
  {
   "cell_type": "code",
   "execution_count": 226,
   "id": "a6c11762",
   "metadata": {},
   "outputs": [
    {
     "data": {
      "text/plain": [
       "46"
      ]
     },
     "execution_count": 226,
     "metadata": {},
     "output_type": "execute_result"
    }
   ],
   "source": [
    "# Retrieve Additional Numbers\n",
    "\n",
    "additionalNumber = int(driver.find_element(By.XPATH, \"/html/body/form/div[5]/div[1]/div/section/div/div/div/span/section/div/div[2]/div[2]/div/div/div[2]/div[1]/div/div[1]/div/div[2]/div[1]/table[3]/tbody/tr/td\").text)\n",
    "additionalNumber"
   ]
  },
  {
   "cell_type": "code",
   "execution_count": 230,
   "id": "ee33a0ba",
   "metadata": {},
   "outputs": [
    {
     "data": {
      "text/plain": [
       "12427689"
      ]
     },
     "execution_count": 230,
     "metadata": {},
     "output_type": "execute_result"
    }
   ],
   "source": [
    "# Retrieve Group 1 Prize\n",
    "jackpot = driver.find_element(By.XPATH, \"/html/body/form/div[5]/div[1]/div/section/div/div/div/span/section/div/div[2]/div[2]/div/div/div[2]/div[1]/div/div[1]/div/div[2]/div[1]/table[4]/tbody/tr/td\")\n",
    "jackpot = int(jackpot.text.replace('$','').replace(',',''))\n",
    "jackpot"
   ]
  },
  {
   "cell_type": "code",
   "execution_count": 231,
   "id": "3f5b5a1b",
   "metadata": {},
   "outputs": [
    {
     "data": {
      "text/plain": [
       "{'g1ShareAmt': 4142563,\n",
       " 'g2ShareAmt': 139191,\n",
       " 'g3ShareAmt': 1567,\n",
       " 'g4ShareAmt': 343,\n",
       " 'g5ShareAmt': 50,\n",
       " 'g6ShareAmt': 25,\n",
       " 'g7ShareAmt': 10}"
      ]
     },
     "execution_count": 231,
     "metadata": {},
     "output_type": "execute_result"
    }
   ],
   "source": [
    "# Retrieve Share Amount\n",
    "shareAmount = {}\n",
    "for row in range(2,9):                                                    \n",
    "    shareAmount[f\"g{row-1}ShareAmt\"] = int(driver.find_element(By.XPATH, \"/html/body/form/div[5]/div[1]/div/section/div/div/div/span/section/div/div[2]/div[2]/div/div/div[2]/div[1]/div/div[1]/div/div[2]/div[1]/table[5]/tbody/tr[\"+str(row)+\"]/td[2]\").text.replace('$','').replace(',','').replace('-','0'))\n",
    "shareAmount"
   ]
  },
  {
   "cell_type": "code",
   "execution_count": 233,
   "id": "a99ae80d",
   "metadata": {},
   "outputs": [
    {
     "data": {
      "text/plain": [
       "{'g1WinShares': 3,\n",
       " 'g2WinShares': 10,\n",
       " 'g3WinShares': 611,\n",
       " 'g4WinShares': 1525,\n",
       " 'g5WinShares': 32674,\n",
       " 'g6WinShares': 37588,\n",
       " 'g7WinShares': 577951}"
      ]
     },
     "execution_count": 233,
     "metadata": {},
     "output_type": "execute_result"
    }
   ],
   "source": [
    "# Retrieve No of winning Shares\n",
    "winningShares = {}\n",
    "for row in range(2,9):                                                      \n",
    "    winningShares[f\"g{row-1}WinShares\"] = int(driver.find_element(By.XPATH, \"/html/body/form/div[5]/div[1]/div/section/div/div/div/span/section/div/div[2]/div[2]/div/div/div[2]/div[1]/div/div[1]/div/div[2]/div[1]/table[5]/tbody/tr[\"+str(row)+\"]/td[3]\").text.replace(',','').replace('-','0'))\n",
    "winningShares"
   ]
  },
  {
   "cell_type": "code",
   "execution_count": 241,
   "id": "d50f2f40",
   "metadata": {},
   "outputs": [
    {
     "data": {
      "text/plain": [
       "{'drawNumber': 4123,\n",
       " 'drawDate': datetime.date(2025, 10, 20),\n",
       " 'winNo1': 3,\n",
       " 'winNo2': 10,\n",
       " 'winNo3': 13,\n",
       " 'winNo4': 15,\n",
       " 'winNo5': 32,\n",
       " 'winNo6': 37,\n",
       " 'addNumber': 8,\n",
       " 'jackpot': 5816118,\n",
       " 'g1ShareAmt': 0,\n",
       " 'g2ShareAmt': 58728,\n",
       " 'g3ShareAmt': 1690,\n",
       " 'g4ShareAmt': 312,\n",
       " 'g5ShareAmt': 50,\n",
       " 'g6ShareAmt': 25,\n",
       " 'g7ShareAmt': 10,\n",
       " 'g1WinShares': 0,\n",
       " 'g2WinShares': 10,\n",
       " 'g3WinShares': 239,\n",
       " 'g4WinShares': 707,\n",
       " 'g5WinShares': 13012,\n",
       " 'g6WinShares': 21561,\n",
       " 'g7WinShares': 239985}"
      ]
     },
     "execution_count": 241,
     "metadata": {},
     "output_type": "execute_result"
    }
   ],
   "source": [
    "# All required data points retrieved into 1 dictionary.\n",
    "\n",
    "drawData = {}\n",
    "                                                            \n",
    "drawData[\"drawNumber\"] = int(driver.find_element(By.XPATH, \"/html/body/form/div[5]/div[1]/div/section/div/div/div/span/section/div/div[2]/div[2]/div/div/div[2]/div[1]/div/div[1]/div/div[2]/div[1]/table[1]/thead/tr/th[2]\").text.replace('Draw No. ', ''))\n",
    "drawData[\"drawDate\"] = datetime.strptime(driver.find_element(By.XPATH,\"/html/body/form/div[5]/div[1]/div/section/div/div/div/span/section/div/div[2]/div[2]/div/div/div[2]/div[1]/div/div[1]/div/div[2]/div[1]/table[1]/thead/tr/th[1]\").text, \"%a, %d %b %Y\").date()\n",
    "for n in range (1,7):\n",
    "    drawData[f\"winNo{n}\"] = int(driver.find_element(By.XPATH, \"/html/body/form/div[5]/div[1]/div/section/div/div/div/span/section/div/div[2]/div[2]/div/div/div[2]/div[1]/div/div[1]/div/div[2]/div[1]/table[2]/tbody/tr/td[\"+str(n)+\"]\").text)\n",
    "drawData[\"addNumber\"] = int(driver.find_element(By.XPATH, \"/html/body/form/div[5]/div[1]/div/section/div/div/div/span/section/div/div[2]/div[2]/div/div/div[2]/div[1]/div/div[1]/div/div[2]/div[1]/table[3]/tbody/tr/td\").text)\n",
    "drawData[\"jackpot\"] = int(driver.find_element(By.XPATH, \"/html/body/form/div[5]/div[1]/div/section/div/div/div/span/section/div/div[2]/div[2]/div/div/div[2]/div[1]/div/div[1]/div/div[2]/div[1]/table[4]/tbody/tr/td\").text.replace('$','').replace(',',''))\n",
    "for row in range(2,9):\n",
    "    drawData[f\"g{row-1}ShareAmt\"] = int(driver.find_element(By.XPATH, \"/html/body/form/div[5]/div[1]/div/section/div/div/div/span/section/div/div[2]/div[2]/div/div/div[2]/div[1]/div/div[1]/div/div[2]/div[1]/table[5]/tbody/tr[\"+str(row)+\"]/td[2]\").text.replace('$','').replace(',','').replace('-','0'))\n",
    "for row in range(2,9):\n",
    "    drawData[f\"g{row-1}WinShares\"] = int(driver.find_element(By.XPATH, \"/html/body/form/div[5]/div[1]/div/section/div/div/div/span/section/div/div[2]/div[2]/div/div/div[2]/div[1]/div/div[1]/div/div[2]/div[1]/table[5]/tbody/tr[\"+str(row)+\"]/td[3]\").text.replace(',','').replace('-','0'))\n",
    "\n",
    "drawData"
   ]
  },
  {
   "cell_type": "code",
   "execution_count": 235,
   "id": "2acc6e7f",
   "metadata": {},
   "outputs": [],
   "source": [
    "insertValues = list(drawData.values())"
   ]
  },
  {
   "cell_type": "code",
   "execution_count": null,
   "id": "9a9f26e8",
   "metadata": {},
   "outputs": [],
   "source": [
    "load_dotenv()_\n",
    "conn = psycopg2.connect(\n",
    "    host = os.getenv(\"PG_HOST\"),\n",
    "    user = os.getenv(\"PG_USER\"),\n",
    "    password = os.getenv(\"PG_PASSWORD\"),\n",
    "    dbname = os.getenv(\"PG_DB\"),\n",
    "    port = os.getenv(\"PG_PORT\"))"
   ]
  },
  {
   "cell_type": "code",
   "execution_count": 129,
   "id": "6a0440f0",
   "metadata": {},
   "outputs": [],
   "source": [
    "cur = conn.cursor()"
   ]
  },
  {
   "cell_type": "code",
   "execution_count": 236,
   "id": "9983b6b2",
   "metadata": {},
   "outputs": [],
   "source": [
    "# Create Table in PostgresDB\n",
    "tableCreate = ''' CREATE TABLE IF NOT EXISTS toto (\n",
    "                        drawNumber      int PRIMARY KEY,\n",
    "                        drawDate        date,\n",
    "                        number1         int,\n",
    "                        number2         int,\n",
    "                        number3         int,\n",
    "                        number4         int,\n",
    "                        number5         int,\n",
    "                        number6         int,\n",
    "                        addNumber       int,\n",
    "                        jackpot         int,\n",
    "                        g1ShareAmt      int,\n",
    "                        g2ShareAmt      int,\n",
    "                        g3ShareAmt      int,\n",
    "                        g4ShareAmt      int,\n",
    "                        g5ShareAmt      int,\n",
    "                        g6ShareAmt      int,\n",
    "                        g7ShareAmt      int,\n",
    "                        g1tickets       int,\n",
    "                        g2tickets       int,\n",
    "                        g3tickets       int,\n",
    "                        g4tickets       int,\n",
    "                        g5tickets       int,\n",
    "                        g6tickets       int,\n",
    "                        g7tickets       int      \n",
    ")\n",
    "''' \n",
    "cur.execute(tableCreate)\n",
    "\n"
   ]
  },
  {
   "cell_type": "code",
   "execution_count": 237,
   "id": "46583df4",
   "metadata": {},
   "outputs": [],
   "source": [
    "#Insert Data into Postgres DB\n",
    "\n",
    "dataInsert = ''' INSERT INTO toto (\n",
    "                        drawNumber,\n",
    "                        drawDate,\n",
    "                        number1,\n",
    "                        number2,\n",
    "                        number3,\n",
    "                        number4,\n",
    "                        number5,\n",
    "                        number6,\n",
    "                        addNumber,\n",
    "                        jackpot,\n",
    "                        g1ShareAmt,\n",
    "                        g2ShareAmt,\n",
    "                        g3ShareAmt,\n",
    "                        g4ShareAmt,\n",
    "                        g5ShareAmt,\n",
    "                        g6ShareAmt,\n",
    "                        g7ShareAmt,\n",
    "                        g1tickets,\n",
    "                        g2tickets,\n",
    "                        g3tickets,\n",
    "                        g4tickets,\n",
    "                        g5tickets,\n",
    "                        g6tickets,\n",
    "                        g7tickets) VALUES (%s, %s, %s, %s, %s, %s, %s, %s, %s, %s, %s, %s, %s, %s, %s, %s, %s, %s, %s, %s, %s, %s, %s, %s)\n",
    "'''\n",
    "cur.execute(dataInsert, insertValues)"
   ]
  },
  {
   "cell_type": "markdown",
   "id": "3c6556b9",
   "metadata": {},
   "source": [
    "#### Automated Execution\n",
    "\n",
    "1. Retrieve draw number of most recent record in database. (DB)\n",
    "2. Retrieve draw number of latest draw from Singapore Pools. (SP)\n",
    "3. If SP > DB, "
   ]
  },
  {
   "cell_type": "code",
   "execution_count": 240,
   "id": "bf54bad3",
   "metadata": {},
   "outputs": [],
   "source": [
    "options = Select(driver.find_element(By.XPATH, \"/html/body/form/div[5]/div[1]/div/section/div/div/div/span/section/div/div[2]/div[2]/div/div/div[2]/div[1]/div/div[1]/div/div[1]/div[2]/div/select\"))\n",
    "options.select_by_value(\"4123\")                "
   ]
  }
 ],
 "metadata": {
  "kernelspec": {
   "display_name": ".venv (3.12.3)",
   "language": "python",
   "name": "python3"
  },
  "language_info": {
   "codemirror_mode": {
    "name": "ipython",
    "version": 3
   },
   "file_extension": ".py",
   "mimetype": "text/x-python",
   "name": "python",
   "nbconvert_exporter": "python",
   "pygments_lexer": "ipython3",
   "version": "3.12.3"
  }
 },
 "nbformat": 4,
 "nbformat_minor": 5
}
