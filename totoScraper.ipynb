{
 "cells": [
  {
   "cell_type": "markdown",
   "id": "f781d547",
   "metadata": {},
   "source": [
    "#### Data to collect  \n",
    "\n",
    "| Data |\n",
    "| -------- |\n",
    "| Draw Number |\n",
    "| Draw Date |\n",
    "| Winning Number 1 |\n",
    "| Winning Number 2 |\n",
    "| Winning Number 3 |\n",
    "| Winning Number 4 |\n",
    "| Winning Number 5 |\n",
    "| Winning Number 6 |\n",
    "| Additional Number|\n",
    "| Jackpot amount|\n",
    "| G1 Share amount|\n",
    "| G2 Share amount|\n",
    "| G3 Share amount|\n",
    "| G4 Share amount|\n",
    "| G1 winning shares|\n",
    "| G2 winning shares|\n",
    "| G3 winning shares|\n",
    "| G4 winning shares|\n",
    "| G5 winning shares|\n",
    "| G6 winning shares|\n",
    "| G7 winning shares|\n",
    "\n",
    "\n",
    "\n"
   ]
  },
  {
   "cell_type": "code",
   "execution_count": null,
   "id": "a7340591",
   "metadata": {},
   "outputs": [],
   "source": [
    "#Import needed packages\n",
    "\n",
    "from selenium import webdriver\n",
    "from selenium.webdriver.common.by import By\n",
    "# from selenium.webdriver.chrome.service import Service as ChromeService\n",
    "# from webdriver_manager.chrome import ChromeDriverManager\n",
    "# from selenium.webdriver.support.ui import Select\n",
    "\n",
    "import pandas as pd "
   ]
  },
  {
   "cell_type": "code",
   "execution_count": null,
   "id": "33bc0e3b",
   "metadata": {},
   "outputs": [],
   "source": [
    "# Opens the singapore pools toto result website in Chrome.\n",
    "driver = webdriver.Chrome()\n",
    "driver.get(\"https://www.singaporepools.com.sg/en/product/pages/toto_results.aspx\")\n",
    "driver.set_window_size(550,768)"
   ]
  },
  {
   "cell_type": "code",
   "execution_count": 137,
   "id": "b0754548",
   "metadata": {},
   "outputs": [
    {
     "data": {
      "text/plain": [
       "4123"
      ]
     },
     "execution_count": 137,
     "metadata": {},
     "output_type": "execute_result"
    }
   ],
   "source": [
    "# Retrieve Draw Number\n",
    "drawNumber = driver.find_element(By.XPATH, \"/html/body/form/div[5]/div[1]/div/section/div/div/div/span/section/div/div[2]/div[2]/div/div/div[1]/div[1]/div/div[1]/div/div[3]/div[1]/ul/li[1]/div[1]/table[1]/thead/tr/th[2]\")\n",
    "drawNumber = int(drawNumber.text.replace('Draw No. ', ''))\n",
    "drawNumber"
   ]
  },
  {
   "cell_type": "code",
   "execution_count": 140,
   "id": "c752246d",
   "metadata": {},
   "outputs": [
    {
     "data": {
      "text/plain": [
       "'Mon, 20 Oct 2025'"
      ]
     },
     "execution_count": 140,
     "metadata": {},
     "output_type": "execute_result"
    }
   ],
   "source": [
    "#Retrieve Draw Date\n",
    "drawDate = driver.find_element(By.XPATH,\"/html/body/form/div[5]/div[1]/div/section/div/div/div/span/section/div/div[2]/div[2]/div/div/div[1]/div[1]/div/div[1]/div/div[3]/div[1]/ul/li[1]/div[1]/table[1]/thead/tr/th[1]\")\n",
    "drawDate.text"
   ]
  },
  {
   "cell_type": "code",
   "execution_count": 145,
   "id": "42642cdb",
   "metadata": {},
   "outputs": [
    {
     "data": {
      "text/plain": [
       "{'winningNo 1': 3,\n",
       " 'winningNo 2': 10,\n",
       " 'winningNo 3': 13,\n",
       " 'winningNo 4': 15,\n",
       " 'winningNo 5': 32,\n",
       " 'winningNo 6': 37}"
      ]
     },
     "execution_count": 145,
     "metadata": {},
     "output_type": "execute_result"
    }
   ],
   "source": [
    "# Retrieve Winning Numbers\n",
    "winningNo = {}\n",
    "for n in range (1,7):\n",
    "    winningNo[f\"winningNo {n}\"] = int(driver.find_element(By.XPATH, \"/html/body/form/div[5]/div[1]/div/section/div/div/div/span/section/div/div[2]/div[2]/div/div/div[1]/div[1]/div/div[1]/div/div[3]/div[1]/ul/li[1]/div[1]/table[2]/tbody/tr/td[\"+str(n)+\"]\").text)\n",
    "winningNo"
   ]
  },
  {
   "cell_type": "code",
   "execution_count": 147,
   "id": "a6c11762",
   "metadata": {},
   "outputs": [
    {
     "data": {
      "text/plain": [
       "8"
      ]
     },
     "execution_count": 147,
     "metadata": {},
     "output_type": "execute_result"
    }
   ],
   "source": [
    "# Retrieve Additional Numbers\n",
    "\n",
    "additionalNumber = int(driver.find_element(By.XPATH, \"/html/body/form/div[5]/div[1]/div/section/div/div/div/span/section/div/div[2]/div[2]/div/div/div[1]/div[1]/div/div[1]/div/div[3]/div[1]/ul/li[1]/div[1]/table[3]/tbody/tr/td\").text)\n",
    "additionalNumber"
   ]
  },
  {
   "cell_type": "code",
   "execution_count": 149,
   "id": "ee33a0ba",
   "metadata": {},
   "outputs": [
    {
     "data": {
      "text/plain": [
       "5816118"
      ]
     },
     "execution_count": 149,
     "metadata": {},
     "output_type": "execute_result"
    }
   ],
   "source": [
    "# Retrieve Group 1 Prize\n",
    "\n",
    "jackpot = driver.find_element(By.XPATH, \"/html/body/form/div[5]/div[1]/div/section/div/div/div/span/section/div/div[2]/div[2]/div/div/div[1]/div[1]/div/div[1]/div/div[3]/div[1]/ul/li[1]/div[1]/table[4]/tbody/tr/td\")\n",
    "int(jackpot.text.replace('$','').replace(',',''))"
   ]
  },
  {
   "cell_type": "code",
   "execution_count": 159,
   "id": "3f5b5a1b",
   "metadata": {},
   "outputs": [
    {
     "data": {
      "text/plain": [
       "{'g1ShareAmt': 0,\n",
       " 'g2ShareAmt': 58728,\n",
       " 'g3ShareAmt': 1690,\n",
       " 'g4ShareAmt': 312,\n",
       " 'g5ShareAmt': 50,\n",
       " 'g6ShareAmt': 25,\n",
       " 'g7ShareAmt': 10}"
      ]
     },
     "execution_count": 159,
     "metadata": {},
     "output_type": "execute_result"
    }
   ],
   "source": [
    "# Retrieve Share Amount\n",
    "shareAmount = {}\n",
    "for row in range(2,9):\n",
    "    shareAmount[f\"g{row-1}ShareAmt\"] = int(driver.find_element(By.XPATH, \"/html/body/form/div[5]/div[1]/div/section/div/div/div/span/section/div/div[2]/div[2]/div/div/div[1]/div[1]/div/div[1]/div/div[3]/div[1]/ul/li[1]/div[1]/table[5]/tbody/tr[\"+str(row)+\"]/td[2]\").text.replace('$','').replace(',','').replace('-','0'))\n",
    "shareAmount"
   ]
  },
  {
   "cell_type": "code",
   "execution_count": 158,
   "id": "a99ae80d",
   "metadata": {},
   "outputs": [
    {
     "data": {
      "text/plain": [
       "{'g1WinShares': 0,\n",
       " 'g2WinShares': 10,\n",
       " 'g3WinShares': 239,\n",
       " 'g4WinShares': 707,\n",
       " 'g5WinShares': 13012,\n",
       " 'g6WinShares': 21561,\n",
       " 'g7WinShares': 239985}"
      ]
     },
     "execution_count": 158,
     "metadata": {},
     "output_type": "execute_result"
    }
   ],
   "source": [
    "# Retrieve No of winning Shares\n",
    "winningShares = {}\n",
    "for row in range(2,9):\n",
    "    winningShares[f\"g{row-1}WinShares\"] = int(driver.find_element(By.XPATH, \"/html/body/form/div[5]/div[1]/div/section/div/div/div/span/section/div/div[2]/div[2]/div/div/div[1]/div[1]/div/div[1]/div/div[3]/div[1]/ul/li[1]/div[1]/table[5]/tbody/tr[\"+str(row)+\"]/td[3]\").text.replace(',','').replace('-','0'))\n",
    "winningShares"
   ]
  },
  {
   "cell_type": "code",
   "execution_count": 125,
   "id": "859c3195",
   "metadata": {},
   "outputs": [
    {
     "name": "stdout",
     "output_type": "stream",
     "text": [
      "Group 1\n",
      "-\n",
      "-\n",
      "Group 2\n",
      "$58,728\n",
      "10\n",
      "Group 3\n",
      "$1,690\n",
      "239\n",
      "Group 4\n",
      "$312\n",
      "707\n",
      "Group 5\n",
      "$50\n",
      "13,012\n",
      "Group 6\n",
      "$25\n",
      "21,561\n",
      "Group 7\n",
      "$10\n",
      "239,985\n"
     ]
    }
   ],
   "source": [
    "for i in range(2,9):\n",
    "    for j in range(1,4):\n",
    "        print(driver.find_element(By.XPATH, \"/html/body/form/div[5]/div[1]/div/section/div/div/div/span/section/div/div[2]/div[2]/div/div/div[1]/div[1]/div/div[1]/div/div[3]/div[1]/ul/li[1]/div[1]/table[5]/tbody/tr[\"+str(i)+\"]/td[\"+str(j)+\"]\").text)"
   ]
  },
  {
   "cell_type": "code",
   "execution_count": 126,
   "id": "d351e4c1",
   "metadata": {},
   "outputs": [],
   "source": [
    "import os\n",
    "import psycopg2\n",
    "from dotenv import load_dotenv"
   ]
  },
  {
   "cell_type": "code",
   "execution_count": 127,
   "id": "7ef6ba58",
   "metadata": {},
   "outputs": [
    {
     "data": {
      "text/plain": [
       "True"
      ]
     },
     "execution_count": 127,
     "metadata": {},
     "output_type": "execute_result"
    }
   ],
   "source": [
    "load_dotenv()"
   ]
  },
  {
   "cell_type": "code",
   "execution_count": 128,
   "id": "9a9f26e8",
   "metadata": {},
   "outputs": [],
   "source": [
    "_conn = psycopg2.connect(\n",
    "    host = os.getenv(\"PG_HOST\"),\n",
    "    user = os.getenv(\"PG_USER\"),\n",
    "    password = os.getenv(\"PG_PASSWORD\"),\n",
    "    dbname = os.getenv(\"PG_DB\"),\n",
    "    port = os.getenv(\"PG_PORT\"))"
   ]
  },
  {
   "cell_type": "code",
   "execution_count": 129,
   "id": "6a0440f0",
   "metadata": {},
   "outputs": [],
   "source": [
    "cur = conn.cursor()"
   ]
  },
  {
   "cell_type": "code",
   "execution_count": 130,
   "id": "fdf0d09a",
   "metadata": {},
   "outputs": [],
   "source": [
    "sqlCommand = \"CREATE TABLE totoTest(drawNumber int, drawDate int);\""
   ]
  },
  {
   "cell_type": "code",
   "execution_count": 131,
   "id": "6e728d62",
   "metadata": {},
   "outputs": [],
   "source": [
    "cur.execute(\"ROLLBACK\")"
   ]
  },
  {
   "cell_type": "code",
   "execution_count": 132,
   "id": "b8bd06bd",
   "metadata": {},
   "outputs": [
    {
     "ename": "DuplicateTable",
     "evalue": "relation \"tototest\" already exists\n",
     "output_type": "error",
     "traceback": [
      "\u001b[31m---------------------------------------------------------------------------\u001b[39m",
      "\u001b[31mDuplicateTable\u001b[39m                            Traceback (most recent call last)",
      "\u001b[36mCell\u001b[39m\u001b[36m \u001b[39m\u001b[32mIn[132]\u001b[39m\u001b[32m, line 1\u001b[39m\n\u001b[32m----> \u001b[39m\u001b[32m1\u001b[39m \u001b[43mcur\u001b[49m\u001b[43m.\u001b[49m\u001b[43mexecute\u001b[49m\u001b[43m(\u001b[49m\u001b[43msqlCommand\u001b[49m\u001b[43m)\u001b[49m\n",
      "\u001b[31mDuplicateTable\u001b[39m: relation \"tototest\" already exists\n"
     ]
    }
   ],
   "source": [
    "cur.execute(sqlCommand)"
   ]
  }
 ],
 "metadata": {
  "kernelspec": {
   "display_name": ".venv (3.12.3)",
   "language": "python",
   "name": "python3"
  },
  "language_info": {
   "codemirror_mode": {
    "name": "ipython",
    "version": 3
   },
   "file_extension": ".py",
   "mimetype": "text/x-python",
   "name": "python",
   "nbconvert_exporter": "python",
   "pygments_lexer": "ipython3",
   "version": "3.12.3"
  }
 },
 "nbformat": 4,
 "nbformat_minor": 5
}
